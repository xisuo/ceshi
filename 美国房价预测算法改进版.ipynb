{
 "cells": [
  {
   "cell_type": "markdown",
   "metadata": {},
   "source": [
    "# 导入需要的包"
   ]
  },
  {
   "cell_type": "code",
   "execution_count": 1,
   "metadata": {},
   "outputs": [],
   "source": [
    "#导包\n",
    "import numpy as np\n",
    "import pandas as pd\n",
    "#导入线性回归模型\n",
    "from sklearn.linear_model import LinearRegression\n",
    "#数据集切分\n",
    "from sklearn.model_selection import train_test_split\n",
    "#交叉验证\n",
    "from sklearn.model_selection import cross_val_score\n",
    "# 设置全部行输出\n",
    "from IPython.core.interactiveshell import InteractiveShell\n",
    "InteractiveShell.ast_node_interactivity = \"all\"\n",
    "import matplotlib.pyplot as plt\n",
    "import seaborn as sns"
   ]
  },
  {
   "cell_type": "markdown",
   "metadata": {},
   "source": [
    "# 数据探索"
   ]
  },
  {
   "cell_type": "code",
   "execution_count": 2,
   "metadata": {},
   "outputs": [
    {
     "data": {
      "text/html": [
       "<div>\n",
       "<style scoped>\n",
       "    .dataframe tbody tr th:only-of-type {\n",
       "        vertical-align: middle;\n",
       "    }\n",
       "\n",
       "    .dataframe tbody tr th {\n",
       "        vertical-align: top;\n",
       "    }\n",
       "\n",
       "    .dataframe thead th {\n",
       "        text-align: right;\n",
       "    }\n",
       "</style>\n",
       "<table border=\"1\" class=\"dataframe\">\n",
       "  <thead>\n",
       "    <tr style=\"text-align: right;\">\n",
       "      <th></th>\n",
       "      <th>销售日期</th>\n",
       "      <th>销售价格</th>\n",
       "      <th>卧室数</th>\n",
       "      <th>浴室数</th>\n",
       "      <th>房屋面积</th>\n",
       "      <th>停车面积</th>\n",
       "      <th>楼层数</th>\n",
       "      <th>房屋评分</th>\n",
       "      <th>建筑面积</th>\n",
       "      <th>地下室面积</th>\n",
       "      <th>建筑年份</th>\n",
       "      <th>修复年份</th>\n",
       "      <th>纬度</th>\n",
       "      <th>经度</th>\n",
       "    </tr>\n",
       "  </thead>\n",
       "  <tbody>\n",
       "    <tr>\n",
       "      <th>0</th>\n",
       "      <td>20150302</td>\n",
       "      <td>545000</td>\n",
       "      <td>3</td>\n",
       "      <td>2.25</td>\n",
       "      <td>1670</td>\n",
       "      <td>6240</td>\n",
       "      <td>1.0</td>\n",
       "      <td>8</td>\n",
       "      <td>1240</td>\n",
       "      <td>430</td>\n",
       "      <td>1974</td>\n",
       "      <td>0</td>\n",
       "      <td>47.6413</td>\n",
       "      <td>-122.113</td>\n",
       "    </tr>\n",
       "    <tr>\n",
       "      <th>1</th>\n",
       "      <td>20150211</td>\n",
       "      <td>785000</td>\n",
       "      <td>4</td>\n",
       "      <td>2.50</td>\n",
       "      <td>3300</td>\n",
       "      <td>10514</td>\n",
       "      <td>2.0</td>\n",
       "      <td>10</td>\n",
       "      <td>3300</td>\n",
       "      <td>0</td>\n",
       "      <td>1984</td>\n",
       "      <td>0</td>\n",
       "      <td>47.6323</td>\n",
       "      <td>-122.036</td>\n",
       "    </tr>\n",
       "    <tr>\n",
       "      <th>2</th>\n",
       "      <td>20150107</td>\n",
       "      <td>765000</td>\n",
       "      <td>3</td>\n",
       "      <td>3.25</td>\n",
       "      <td>3190</td>\n",
       "      <td>5283</td>\n",
       "      <td>2.0</td>\n",
       "      <td>9</td>\n",
       "      <td>3190</td>\n",
       "      <td>0</td>\n",
       "      <td>2007</td>\n",
       "      <td>0</td>\n",
       "      <td>47.5534</td>\n",
       "      <td>-122.002</td>\n",
       "    </tr>\n",
       "    <tr>\n",
       "      <th>3</th>\n",
       "      <td>20141103</td>\n",
       "      <td>720000</td>\n",
       "      <td>5</td>\n",
       "      <td>2.50</td>\n",
       "      <td>2900</td>\n",
       "      <td>9525</td>\n",
       "      <td>2.0</td>\n",
       "      <td>9</td>\n",
       "      <td>2900</td>\n",
       "      <td>0</td>\n",
       "      <td>1989</td>\n",
       "      <td>0</td>\n",
       "      <td>47.5442</td>\n",
       "      <td>-122.138</td>\n",
       "    </tr>\n",
       "    <tr>\n",
       "      <th>4</th>\n",
       "      <td>20140603</td>\n",
       "      <td>449500</td>\n",
       "      <td>5</td>\n",
       "      <td>2.75</td>\n",
       "      <td>2040</td>\n",
       "      <td>7488</td>\n",
       "      <td>1.0</td>\n",
       "      <td>7</td>\n",
       "      <td>1200</td>\n",
       "      <td>840</td>\n",
       "      <td>1969</td>\n",
       "      <td>0</td>\n",
       "      <td>47.7289</td>\n",
       "      <td>-122.172</td>\n",
       "    </tr>\n",
       "  </tbody>\n",
       "</table>\n",
       "</div>"
      ],
      "text/plain": [
       "       销售日期    销售价格  卧室数   浴室数  房屋面积   停车面积  楼层数  房屋评分  建筑面积  地下室面积  建筑年份  \\\n",
       "0  20150302  545000    3  2.25  1670   6240  1.0     8  1240    430  1974   \n",
       "1  20150211  785000    4  2.50  3300  10514  2.0    10  3300      0  1984   \n",
       "2  20150107  765000    3  3.25  3190   5283  2.0     9  3190      0  2007   \n",
       "3  20141103  720000    5  2.50  2900   9525  2.0     9  2900      0  1989   \n",
       "4  20140603  449500    5  2.75  2040   7488  1.0     7  1200    840  1969   \n",
       "\n",
       "   修复年份       纬度       经度  \n",
       "0     0  47.6413 -122.113  \n",
       "1     0  47.6323 -122.036  \n",
       "2     0  47.5534 -122.002  \n",
       "3     0  47.5442 -122.138  \n",
       "4     0  47.7289 -122.172  "
      ]
     },
     "execution_count": 2,
     "metadata": {},
     "output_type": "execute_result"
    }
   ],
   "source": [
    "#导入数据集，探索数据\n",
    "data = pd.read_csv('kc_train.csv',encoding='GBK')\n",
    "data.head()"
   ]
  },
  {
   "cell_type": "code",
   "execution_count": 3,
   "metadata": {
    "scrolled": true
   },
   "outputs": [
    {
     "name": "stdout",
     "output_type": "stream",
     "text": [
      "<class 'pandas.core.frame.DataFrame'>\n",
      "RangeIndex: 10000 entries, 0 to 9999\n",
      "Data columns (total 14 columns):\n",
      "销售日期     10000 non-null int64\n",
      "销售价格     10000 non-null int64\n",
      "卧室数      10000 non-null int64\n",
      "浴室数      10000 non-null float64\n",
      "房屋面积     10000 non-null int64\n",
      "停车面积     10000 non-null int64\n",
      "楼层数      10000 non-null float64\n",
      "房屋评分     10000 non-null int64\n",
      "建筑面积     10000 non-null int64\n",
      "地下室面积    10000 non-null int64\n",
      "建筑年份     10000 non-null int64\n",
      "修复年份     10000 non-null int64\n",
      "纬度       10000 non-null float64\n",
      "经度       10000 non-null float64\n",
      "dtypes: float64(4), int64(10)\n",
      "memory usage: 1.1 MB\n"
     ]
    },
    {
     "data": {
      "text/plain": [
       "(10000, 14)"
      ]
     },
     "execution_count": 3,
     "metadata": {},
     "output_type": "execute_result"
    },
    {
     "data": {
      "text/plain": [
       "450000     78\n",
       "350000     77\n",
       "325000     77\n",
       "550000     76\n",
       "500000     74\n",
       "400000     73\n",
       "375000     72\n",
       "425000     67\n",
       "300000     65\n",
       "250000     63\n",
       "330000     62\n",
       "525000     59\n",
       "575000     54\n",
       "600000     54\n",
       "475000     53\n",
       "315000     53\n",
       "270000     51\n",
       "280000     51\n",
       "290000     51\n",
       "465000     50\n",
       "390000     49\n",
       "320000     47\n",
       "380000     47\n",
       "415000     46\n",
       "265000     46\n",
       "310000     46\n",
       "435000     46\n",
       "490000     45\n",
       "540000     45\n",
       "275000     45\n",
       "           ..\n",
       "1681000     1\n",
       "476500      1\n",
       "894400      1\n",
       "796000      1\n",
       "902500      1\n",
       "410988      1\n",
       "118125      1\n",
       "968060      1\n",
       "132500      1\n",
       "576925      1\n",
       "398750      1\n",
       "302495      1\n",
       "148900      1\n",
       "878000      1\n",
       "834995      1\n",
       "234950      1\n",
       "1468000     1\n",
       "767450      1\n",
       "640500      1\n",
       "869900      1\n",
       "208417      1\n",
       "606500      1\n",
       "210490      1\n",
       "681500      1\n",
       "616000      1\n",
       "829000      1\n",
       "685650      1\n",
       "955990      1\n",
       "542300      1\n",
       "2048000     1\n",
       "Name: 销售价格, Length: 2590, dtype: int64"
      ]
     },
     "execution_count": 3,
     "metadata": {},
     "output_type": "execute_result"
    }
   ],
   "source": [
    "data.info()\n",
    "data.shape\n",
    "data['销售价格'].value_counts()"
   ]
  },
  {
   "cell_type": "markdown",
   "metadata": {},
   "source": [
    "# 数据可视化"
   ]
  },
  {
   "cell_type": "markdown",
   "metadata": {},
   "source": [
    "## 绘制散点图"
   ]
  },
  {
   "cell_type": "code",
   "execution_count": 4,
   "metadata": {},
   "outputs": [],
   "source": [
    "#windows电脑电脑正常显示中文\n",
    "plt.rcParams['font.sans-serif']=['SimHei']\n",
    "plt.rcParams['axes.unicode_minus'] = False"
   ]
  },
  {
   "cell_type": "code",
   "execution_count": 5,
   "metadata": {},
   "outputs": [
    {
     "data": {
      "text/plain": [
       "<Figure size 1080x1440 with 0 Axes>"
      ]
     },
     "execution_count": 5,
     "metadata": {},
     "output_type": "execute_result"
    },
    {
     "data": {
      "text/plain": [
       "<matplotlib.axes._subplots.AxesSubplot at 0x284c0656080>"
      ]
     },
     "execution_count": 5,
     "metadata": {},
     "output_type": "execute_result"
    },
    {
     "data": {
      "text/plain": [
       "<matplotlib.axes._subplots.AxesSubplot at 0x284c0656080>"
      ]
     },
     "execution_count": 5,
     "metadata": {},
     "output_type": "execute_result"
    },
    {
     "data": {
      "text/plain": [
       "<matplotlib.axes._subplots.AxesSubplot at 0x284c0d33400>"
      ]
     },
     "execution_count": 5,
     "metadata": {},
     "output_type": "execute_result"
    },
    {
     "data": {
      "text/plain": [
       "<matplotlib.axes._subplots.AxesSubplot at 0x284c0d33400>"
      ]
     },
     "execution_count": 5,
     "metadata": {},
     "output_type": "execute_result"
    },
    {
     "data": {
      "text/plain": [
       "<matplotlib.axes._subplots.AxesSubplot at 0x284c0ec44a8>"
      ]
     },
     "execution_count": 5,
     "metadata": {},
     "output_type": "execute_result"
    },
    {
     "data": {
      "text/plain": [
       "<matplotlib.axes._subplots.AxesSubplot at 0x284c0ec44a8>"
      ]
     },
     "execution_count": 5,
     "metadata": {},
     "output_type": "execute_result"
    },
    {
     "data": {
      "text/plain": [
       "<matplotlib.axes._subplots.AxesSubplot at 0x284c0ef83c8>"
      ]
     },
     "execution_count": 5,
     "metadata": {},
     "output_type": "execute_result"
    },
    {
     "data": {
      "text/plain": [
       "<matplotlib.axes._subplots.AxesSubplot at 0x284c0ef83c8>"
      ]
     },
     "execution_count": 5,
     "metadata": {},
     "output_type": "execute_result"
    },
    {
     "data": {
      "text/plain": [
       "<matplotlib.axes._subplots.AxesSubplot at 0x284c0f29278>"
      ]
     },
     "execution_count": 5,
     "metadata": {},
     "output_type": "execute_result"
    },
    {
     "data": {
      "text/plain": [
       "<matplotlib.axes._subplots.AxesSubplot at 0x284c0f29278>"
      ]
     },
     "execution_count": 5,
     "metadata": {},
     "output_type": "execute_result"
    },
    {
     "data": {
      "text/plain": [
       "<matplotlib.axes._subplots.AxesSubplot at 0x284c0f29f28>"
      ]
     },
     "execution_count": 5,
     "metadata": {},
     "output_type": "execute_result"
    },
    {
     "data": {
      "text/plain": [
       "<matplotlib.axes._subplots.AxesSubplot at 0x284c0f29f28>"
      ]
     },
     "execution_count": 5,
     "metadata": {},
     "output_type": "execute_result"
    },
    {
     "data": {
      "text/plain": [
       "<matplotlib.axes._subplots.AxesSubplot at 0x284c0f92160>"
      ]
     },
     "execution_count": 5,
     "metadata": {},
     "output_type": "execute_result"
    },
    {
     "data": {
      "text/plain": [
       "<matplotlib.axes._subplots.AxesSubplot at 0x284c0f92160>"
      ]
     },
     "execution_count": 5,
     "metadata": {},
     "output_type": "execute_result"
    },
    {
     "data": {
      "text/plain": [
       "<matplotlib.axes._subplots.AxesSubplot at 0x284c0fbaf28>"
      ]
     },
     "execution_count": 5,
     "metadata": {},
     "output_type": "execute_result"
    },
    {
     "data": {
      "text/plain": [
       "<matplotlib.axes._subplots.AxesSubplot at 0x284c0fbaf28>"
      ]
     },
     "execution_count": 5,
     "metadata": {},
     "output_type": "execute_result"
    },
    {
     "data": {
      "text/plain": [
       "<matplotlib.axes._subplots.AxesSubplot at 0x284c0fedf98>"
      ]
     },
     "execution_count": 5,
     "metadata": {},
     "output_type": "execute_result"
    },
    {
     "data": {
      "text/plain": [
       "<matplotlib.axes._subplots.AxesSubplot at 0x284c0fedf98>"
      ]
     },
     "execution_count": 5,
     "metadata": {},
     "output_type": "execute_result"
    },
    {
     "data": {
      "text/plain": [
       "<matplotlib.axes._subplots.AxesSubplot at 0x284c101df60>"
      ]
     },
     "execution_count": 5,
     "metadata": {},
     "output_type": "execute_result"
    },
    {
     "data": {
      "text/plain": [
       "<matplotlib.axes._subplots.AxesSubplot at 0x284c101df60>"
      ]
     },
     "execution_count": 5,
     "metadata": {},
     "output_type": "execute_result"
    },
    {
     "data": {
      "text/plain": [
       "<matplotlib.axes._subplots.AxesSubplot at 0x284c1050e80>"
      ]
     },
     "execution_count": 5,
     "metadata": {},
     "output_type": "execute_result"
    },
    {
     "data": {
      "text/plain": [
       "<matplotlib.axes._subplots.AxesSubplot at 0x284c1050e80>"
      ]
     },
     "execution_count": 5,
     "metadata": {},
     "output_type": "execute_result"
    },
    {
     "data": {
      "text/plain": [
       "<matplotlib.axes._subplots.AxesSubplot at 0x284c1084e80>"
      ]
     },
     "execution_count": 5,
     "metadata": {},
     "output_type": "execute_result"
    },
    {
     "data": {
      "text/plain": [
       "<matplotlib.axes._subplots.AxesSubplot at 0x284c1084e80>"
      ]
     },
     "execution_count": 5,
     "metadata": {},
     "output_type": "execute_result"
    },
    {
     "data": {
      "text/plain": [
       "<matplotlib.axes._subplots.AxesSubplot at 0x284c10b3d68>"
      ]
     },
     "execution_count": 5,
     "metadata": {},
     "output_type": "execute_result"
    },
    {
     "data": {
      "text/plain": [
       "<matplotlib.axes._subplots.AxesSubplot at 0x284c10b3d68>"
      ]
     },
     "execution_count": 5,
     "metadata": {},
     "output_type": "execute_result"
    },
    {
     "data": {
      "image/png": "[encoded data removed]",
      "text/plain": [
       "<Figure size 1080x1440 with 13 Axes>"
      ]
     },
     "metadata": {
      "needs_background": "light"
     },
     "output_type": "display_data"
    }
   ],
   "source": [
    "n =1\n",
    "plt.figure(figsize=(15,20))\n",
    "for i in data.iloc[:,[0,2,3,4,5,6,7,8,9,10,11,12,13]]:\n",
    "    plt.subplot(7,2,n)\n",
    "    n += 1\n",
    "    plt.subplots_adjust(wspace=0.3)\n",
    "    plt.subplots_adjust(hspace=0.3)\n",
    "    #建立回归线\n",
    "    sns.regplot(x = data[i],y = data['销售价格'],data = data)\n",
    "    "
   ]
  },
  {
   "cell_type": "code",
   "execution_count": 6,
   "metadata": {},
   "outputs": [
    {
     "data": {
      "text/html": [
       "<div>\n",
       "<style scoped>\n",
       "    .dataframe tbody tr th:only-of-type {\n",
       "        vertical-align: middle;\n",
       "    }\n",
       "\n",
       "    .dataframe tbody tr th {\n",
       "        vertical-align: top;\n",
       "    }\n",
       "\n",
       "    .dataframe thead th {\n",
       "        text-align: right;\n",
       "    }\n",
       "</style>\n",
       "<table border=\"1\" class=\"dataframe\">\n",
       "  <thead>\n",
       "    <tr style=\"text-align: right;\">\n",
       "      <th></th>\n",
       "      <th>销售日期</th>\n",
       "      <th>销售价格</th>\n",
       "      <th>卧室数</th>\n",
       "      <th>浴室数</th>\n",
       "      <th>房屋面积</th>\n",
       "      <th>停车面积</th>\n",
       "      <th>楼层数</th>\n",
       "      <th>房屋评分</th>\n",
       "      <th>建筑面积</th>\n",
       "      <th>地下室面积</th>\n",
       "      <th>建筑年份</th>\n",
       "      <th>修复年份</th>\n",
       "      <th>纬度</th>\n",
       "      <th>经度</th>\n",
       "    </tr>\n",
       "  </thead>\n",
       "  <tbody>\n",
       "    <tr>\n",
       "      <th>销售日期</th>\n",
       "      <td>1.000000</td>\n",
       "      <td>0.006070</td>\n",
       "      <td>-0.015090</td>\n",
       "      <td>-0.029309</td>\n",
       "      <td>-0.035719</td>\n",
       "      <td>0.023240</td>\n",
       "      <td>-0.020392</td>\n",
       "      <td>-0.025199</td>\n",
       "      <td>-0.025853</td>\n",
       "      <td>-0.025794</td>\n",
       "      <td>0.006585</td>\n",
       "      <td>-0.025049</td>\n",
       "      <td>-0.029335</td>\n",
       "      <td>-0.000391</td>\n",
       "    </tr>\n",
       "    <tr>\n",
       "      <th>销售价格</th>\n",
       "      <td>0.006070</td>\n",
       "      <td>1.000000</td>\n",
       "      <td>0.314395</td>\n",
       "      <td>0.533221</td>\n",
       "      <td>0.698923</td>\n",
       "      <td>0.094499</td>\n",
       "      <td>0.240563</td>\n",
       "      <td>0.667086</td>\n",
       "      <td>0.600657</td>\n",
       "      <td>0.328690</td>\n",
       "      <td>0.059483</td>\n",
       "      <td>0.120399</td>\n",
       "      <td>0.304946</td>\n",
       "      <td>0.027786</td>\n",
       "    </tr>\n",
       "    <tr>\n",
       "      <th>卧室数</th>\n",
       "      <td>-0.015090</td>\n",
       "      <td>0.314395</td>\n",
       "      <td>1.000000</td>\n",
       "      <td>0.526866</td>\n",
       "      <td>0.588612</td>\n",
       "      <td>0.044489</td>\n",
       "      <td>0.167250</td>\n",
       "      <td>0.364587</td>\n",
       "      <td>0.485420</td>\n",
       "      <td>0.314762</td>\n",
       "      <td>0.156522</td>\n",
       "      <td>0.021880</td>\n",
       "      <td>-0.001033</td>\n",
       "      <td>0.137799</td>\n",
       "    </tr>\n",
       "    <tr>\n",
       "      <th>浴室数</th>\n",
       "      <td>-0.029309</td>\n",
       "      <td>0.533221</td>\n",
       "      <td>0.526866</td>\n",
       "      <td>1.000000</td>\n",
       "      <td>0.757294</td>\n",
       "      <td>0.095840</td>\n",
       "      <td>0.492833</td>\n",
       "      <td>0.671609</td>\n",
       "      <td>0.683691</td>\n",
       "      <td>0.295099</td>\n",
       "      <td>0.508424</td>\n",
       "      <td>0.045541</td>\n",
       "      <td>0.029971</td>\n",
       "      <td>0.222883</td>\n",
       "    </tr>\n",
       "    <tr>\n",
       "      <th>房屋面积</th>\n",
       "      <td>-0.035719</td>\n",
       "      <td>0.698923</td>\n",
       "      <td>0.588612</td>\n",
       "      <td>0.757294</td>\n",
       "      <td>1.000000</td>\n",
       "      <td>0.178122</td>\n",
       "      <td>0.339334</td>\n",
       "      <td>0.764166</td>\n",
       "      <td>0.875399</td>\n",
       "      <td>0.440576</td>\n",
       "      <td>0.315527</td>\n",
       "      <td>0.054527</td>\n",
       "      <td>0.052305</td>\n",
       "      <td>0.247892</td>\n",
       "    </tr>\n",
       "    <tr>\n",
       "      <th>停车面积</th>\n",
       "      <td>0.023240</td>\n",
       "      <td>0.094499</td>\n",
       "      <td>0.044489</td>\n",
       "      <td>0.095840</td>\n",
       "      <td>0.178122</td>\n",
       "      <td>1.000000</td>\n",
       "      <td>-0.003487</td>\n",
       "      <td>0.119794</td>\n",
       "      <td>0.184282</td>\n",
       "      <td>0.025821</td>\n",
       "      <td>0.047090</td>\n",
       "      <td>0.007255</td>\n",
       "      <td>-0.082037</td>\n",
       "      <td>0.205590</td>\n",
       "    </tr>\n",
       "    <tr>\n",
       "      <th>楼层数</th>\n",
       "      <td>-0.020392</td>\n",
       "      <td>0.240563</td>\n",
       "      <td>0.167250</td>\n",
       "      <td>0.492833</td>\n",
       "      <td>0.339334</td>\n",
       "      <td>-0.003487</td>\n",
       "      <td>1.000000</td>\n",
       "      <td>0.451660</td>\n",
       "      <td>0.511583</td>\n",
       "      <td>-0.248899</td>\n",
       "      <td>0.496363</td>\n",
       "      <td>0.007071</td>\n",
       "      <td>0.052710</td>\n",
       "      <td>0.126969</td>\n",
       "    </tr>\n",
       "    <tr>\n",
       "      <th>房屋评分</th>\n",
       "      <td>-0.025199</td>\n",
       "      <td>0.667086</td>\n",
       "      <td>0.364587</td>\n",
       "      <td>0.671609</td>\n",
       "      <td>0.764166</td>\n",
       "      <td>0.119794</td>\n",
       "      <td>0.451660</td>\n",
       "      <td>1.000000</td>\n",
       "      <td>0.757510</td>\n",
       "      <td>0.172211</td>\n",
       "      <td>0.451183</td>\n",
       "      <td>0.003000</td>\n",
       "      <td>0.123494</td>\n",
       "      <td>0.204647</td>\n",
       "    </tr>\n",
       "    <tr>\n",
       "      <th>建筑面积</th>\n",
       "      <td>-0.025853</td>\n",
       "      <td>0.600657</td>\n",
       "      <td>0.485420</td>\n",
       "      <td>0.683691</td>\n",
       "      <td>0.875399</td>\n",
       "      <td>0.184282</td>\n",
       "      <td>0.511583</td>\n",
       "      <td>0.757510</td>\n",
       "      <td>1.000000</td>\n",
       "      <td>-0.048276</td>\n",
       "      <td>0.420110</td>\n",
       "      <td>0.023490</td>\n",
       "      <td>0.003164</td>\n",
       "      <td>0.349348</td>\n",
       "    </tr>\n",
       "    <tr>\n",
       "      <th>地下室面积</th>\n",
       "      <td>-0.025794</td>\n",
       "      <td>0.328690</td>\n",
       "      <td>0.314762</td>\n",
       "      <td>0.295099</td>\n",
       "      <td>0.440576</td>\n",
       "      <td>0.025821</td>\n",
       "      <td>-0.248899</td>\n",
       "      <td>0.172211</td>\n",
       "      <td>-0.048276</td>\n",
       "      <td>1.000000</td>\n",
       "      <td>-0.128217</td>\n",
       "      <td>0.069045</td>\n",
       "      <td>0.102201</td>\n",
       "      <td>-0.136558</td>\n",
       "    </tr>\n",
       "    <tr>\n",
       "      <th>建筑年份</th>\n",
       "      <td>0.006585</td>\n",
       "      <td>0.059483</td>\n",
       "      <td>0.156522</td>\n",
       "      <td>0.508424</td>\n",
       "      <td>0.315527</td>\n",
       "      <td>0.047090</td>\n",
       "      <td>0.496363</td>\n",
       "      <td>0.451183</td>\n",
       "      <td>0.420110</td>\n",
       "      <td>-0.128217</td>\n",
       "      <td>1.000000</td>\n",
       "      <td>-0.225518</td>\n",
       "      <td>-0.139964</td>\n",
       "      <td>0.408085</td>\n",
       "    </tr>\n",
       "    <tr>\n",
       "      <th>修复年份</th>\n",
       "      <td>-0.025049</td>\n",
       "      <td>0.120399</td>\n",
       "      <td>0.021880</td>\n",
       "      <td>0.045541</td>\n",
       "      <td>0.054527</td>\n",
       "      <td>0.007255</td>\n",
       "      <td>0.007071</td>\n",
       "      <td>0.003000</td>\n",
       "      <td>0.023490</td>\n",
       "      <td>0.069045</td>\n",
       "      <td>-0.225518</td>\n",
       "      <td>1.000000</td>\n",
       "      <td>0.026653</td>\n",
       "      <td>-0.064936</td>\n",
       "    </tr>\n",
       "    <tr>\n",
       "      <th>纬度</th>\n",
       "      <td>-0.029335</td>\n",
       "      <td>0.304946</td>\n",
       "      <td>-0.001033</td>\n",
       "      <td>0.029971</td>\n",
       "      <td>0.052305</td>\n",
       "      <td>-0.082037</td>\n",
       "      <td>0.052710</td>\n",
       "      <td>0.123494</td>\n",
       "      <td>0.003164</td>\n",
       "      <td>0.102201</td>\n",
       "      <td>-0.139964</td>\n",
       "      <td>0.026653</td>\n",
       "      <td>1.000000</td>\n",
       "      <td>-0.129095</td>\n",
       "    </tr>\n",
       "    <tr>\n",
       "      <th>经度</th>\n",
       "      <td>-0.000391</td>\n",
       "      <td>0.027786</td>\n",
       "      <td>0.137799</td>\n",
       "      <td>0.222883</td>\n",
       "      <td>0.247892</td>\n",
       "      <td>0.205590</td>\n",
       "      <td>0.126969</td>\n",
       "      <td>0.204647</td>\n",
       "      <td>0.349348</td>\n",
       "      <td>-0.136558</td>\n",
       "      <td>0.408085</td>\n",
       "      <td>-0.064936</td>\n",
       "      <td>-0.129095</td>\n",
       "      <td>1.000000</td>\n",
       "    </tr>\n",
       "  </tbody>\n",
       "</table>\n",
       "</div>"
      ],
      "text/plain": [
       "           销售日期      销售价格       卧室数       浴室数      房屋面积      停车面积       楼层数  \\\n",
       "销售日期   1.000000  0.006070 -0.015090 -0.029309 -0.035719  0.023240 -0.020392   \n",
       "销售价格   0.006070  1.000000  0.314395  0.533221  0.698923  0.094499  0.240563   \n",
       "卧室数   -0.015090  0.314395  1.000000  0.526866  0.588612  0.044489  0.167250   \n",
       "浴室数   -0.029309  0.533221  0.526866  1.000000  0.757294  0.095840  0.492833   \n",
       "房屋面积  -0.035719  0.698923  0.588612  0.757294  1.000000  0.178122  0.339334   \n",
       "停车面积   0.023240  0.094499  0.044489  0.095840  0.178122  1.000000 -0.003487   \n",
       "楼层数   -0.020392  0.240563  0.167250  0.492833  0.339334 -0.003487  1.000000   \n",
       "房屋评分  -0.025199  0.667086  0.364587  0.671609  0.764166  0.119794  0.451660   \n",
       "建筑面积  -0.025853  0.600657  0.485420  0.683691  0.875399  0.184282  0.511583   \n",
       "地下室面积 -0.025794  0.328690  0.314762  0.295099  0.440576  0.025821 -0.248899   \n",
       "建筑年份   0.006585  0.059483  0.156522  0.508424  0.315527  0.047090  0.496363   \n",
       "修复年份  -0.025049  0.120399  0.021880  0.045541  0.054527  0.007255  0.007071   \n",
       "纬度    -0.029335  0.304946 -0.001033  0.029971  0.052305 -0.082037  0.052710   \n",
       "经度    -0.000391  0.027786  0.137799  0.222883  0.247892  0.205590  0.126969   \n",
       "\n",
       "           房屋评分      建筑面积     地下室面积      建筑年份      修复年份        纬度        经度  \n",
       "销售日期  -0.025199 -0.025853 -0.025794  0.006585 -0.025049 -0.029335 -0.000391  \n",
       "销售价格   0.667086  0.600657  0.328690  0.059483  0.120399  0.304946  0.027786  \n",
       "卧室数    0.364587  0.485420  0.314762  0.156522  0.021880 -0.001033  0.137799  \n",
       "浴室数    0.671609  0.683691  0.295099  0.508424  0.045541  0.029971  0.222883  \n",
       "房屋面积   0.764166  0.875399  0.440576  0.315527  0.054527  0.052305  0.247892  \n",
       "停车面积   0.119794  0.184282  0.025821  0.047090  0.007255 -0.082037  0.205590  \n",
       "楼层数    0.451660  0.511583 -0.248899  0.496363  0.007071  0.052710  0.126969  \n",
       "房屋评分   1.000000  0.757510  0.172211  0.451183  0.003000  0.123494  0.204647  \n",
       "建筑面积   0.757510  1.000000 -0.048276  0.420110  0.023490  0.003164  0.349348  \n",
       "地下室面积  0.172211 -0.048276  1.000000 -0.128217  0.069045  0.102201 -0.136558  \n",
       "建筑年份   0.451183  0.420110 -0.128217  1.000000 -0.225518 -0.139964  0.408085  \n",
       "修复年份   0.003000  0.023490  0.069045 -0.225518  1.000000  0.026653 -0.064936  \n",
       "纬度     0.123494  0.003164  0.102201 -0.139964  0.026653  1.000000 -0.129095  \n",
       "经度     0.204647  0.349348 -0.136558  0.408085 -0.064936 -0.129095  1.000000  "
      ]
     },
     "execution_count": 6,
     "metadata": {},
     "output_type": "execute_result"
    }
   ],
   "source": [
    "data.corr()"
   ]
  },
  {
   "cell_type": "markdown",
   "metadata": {},
   "source": [
    "## 热力图"
   ]
  },
  {
   "cell_type": "markdown",
   "metadata": {},
   "source": [
    "上面都是针对单个特征与目标变量逐一分析，不方便且耗时，下面画一个热力图进一步观测"
   ]
  },
  {
   "cell_type": "code",
   "execution_count": 7,
   "metadata": {},
   "outputs": [],
   "source": [
    "#windows电脑电脑正常显示中文\n",
    "plt.rcParams['font.sans-serif']=['SimHei']\n",
    "plt.rcParams['axes.unicode_minus'] = False"
   ]
  },
  {
   "cell_type": "code",
   "execution_count": 8,
   "metadata": {
    "scrolled": true
   },
   "outputs": [
    {
     "name": "stdout",
     "output_type": "stream",
     "text": [
      "Populating the interactive namespace from numpy and matplotlib\n"
     ]
    },
    {
     "data": {
      "text/plain": [
       "<matplotlib.axes._subplots.AxesSubplot at 0x284c18b5278>"
      ]
     },
     "execution_count": 8,
     "metadata": {},
     "output_type": "execute_result"
    },
    {
     "data": {
      "image/png": "[encoded data removed]",
      "text/plain": [
       "<Figure size 1080x720 with 2 Axes>"
      ]
     },
     "metadata": {
      "needs_background": "light"
     },
     "output_type": "display_data"
    }
   ],
   "source": [
    "%pylab inline\n",
    "# 设置图幅大小\n",
    "pylab.rcParams['figure.figsize'] = (15, 10)\n",
    "#设置坐标轴字体大小\n",
    "#sns.set(font_scale=1.25)\n",
    "corrmatrix = data.corr()\n",
    "hm = sns.heatmap(corrmatrix,square=True,annot=True,cmap='RdPu',fmt='.2f',annot_kws={'size':10})\n",
    "hm"
   ]
  },
  {
   "cell_type": "markdown",
   "metadata": {},
   "source": [
    "由上图可以看出：\n",
    "\n",
    "1. '房屋面积'、'房屋评分'这两个变量与'销售价格'有较强的线性关系，\n",
    "   '建筑面积', '浴室数'与'销售价格'也有中强度的线性关系，\n",
    "\n",
    "2. 但'房屋面积'和'建筑面积'的相关性有0.88，有很强的共线性，只取其一即可，取与目标变量关系更强的'房屋面积'；\n",
    "\n",
    "3. 同时'房屋面积'与'浴室数'相关性达0.76，'房屋面积'与'房屋评分'的相关性也达0.76，也有很强的相关性，因此取'房屋面积'，\n",
    "\n",
    "3. '销售日期'、'建筑年份'、'修复年份'、与'销售价格'没有明显的相关性，可以考虑删除；\n",
    "\n",
    "4. 因此，选取的特征有：'卧室数', '房屋面积','停车面积', '楼层数', '地下室面积', '纬度','经度'。"
   ]
  },
  {
   "cell_type": "markdown",
   "metadata": {},
   "source": [
    "# 先建模看看效果"
   ]
  },
  {
   "cell_type": "markdown",
   "metadata": {},
   "source": [
    "## 采用LinearRegression建模"
   ]
  },
  {
   "cell_type": "code",
   "execution_count": 9,
   "metadata": {},
   "outputs": [],
   "source": [
    "X = data.drop(columns = ['销售价格'])\n",
    "y = data.销售价格"
   ]
  },
  {
   "cell_type": "code",
   "execution_count": 10,
   "metadata": {},
   "outputs": [],
   "source": [
    "X_train, X_test, y_train, y_test = train_test_split(X,y,\n",
    "                                test_size=0.3, random_state=666)"
   ]
  },
  {
   "cell_type": "code",
   "execution_count": 11,
   "metadata": {},
   "outputs": [],
   "source": [
    "#实例化\n",
    "lr = LinearRegression()"
   ]
  },
  {
   "cell_type": "code",
   "execution_count": 12,
   "metadata": {},
   "outputs": [
    {
     "data": {
      "text/plain": [
       "LinearRegression(copy_X=True, fit_intercept=True, n_jobs=None,\n",
       "         normalize=False)"
      ]
     },
     "execution_count": 12,
     "metadata": {},
     "output_type": "execute_result"
    }
   ],
   "source": [
    "lr.fit(X_train,y_train)"
   ]
  },
  {
   "cell_type": "code",
   "execution_count": 13,
   "metadata": {},
   "outputs": [
    {
     "data": {
      "text/plain": [
       "0.6540336329364269"
      ]
     },
     "execution_count": 13,
     "metadata": {},
     "output_type": "execute_result"
    },
    {
     "data": {
      "text/plain": [
       "0.6373075754096125"
      ]
     },
     "execution_count": 13,
     "metadata": {},
     "output_type": "execute_result"
    }
   ],
   "source": [
    "lr.score(X_train,y_train)\n",
    "lr.score(X_test,y_test)"
   ]
  },
  {
   "cell_type": "markdown",
   "metadata": {},
   "source": [
    "## 采用随机森林回归建模看看"
   ]
  },
  {
   "cell_type": "code",
   "execution_count": 14,
   "metadata": {},
   "outputs": [],
   "source": [
    "from sklearn.ensemble import RandomForestRegressor"
   ]
  },
  {
   "cell_type": "code",
   "execution_count": 21,
   "metadata": {},
   "outputs": [],
   "source": [
    "rdf = RandomForestRegressor(n_estimators= 100)"
   ]
  },
  {
   "cell_type": "code",
   "execution_count": 22,
   "metadata": {},
   "outputs": [
    {
     "data": {
      "text/plain": [
       "RandomForestRegressor(bootstrap=True, criterion='mse', max_depth=None,\n",
       "           max_features='auto', max_leaf_nodes=None,\n",
       "           min_impurity_decrease=0.0, min_impurity_split=None,\n",
       "           min_samples_leaf=1, min_samples_split=2,\n",
       "           min_weight_fraction_leaf=0.0, n_estimators=100, n_jobs=None,\n",
       "           oob_score=False, random_state=None, verbose=0, warm_start=False)"
      ]
     },
     "execution_count": 22,
     "metadata": {},
     "output_type": "execute_result"
    }
   ],
   "source": [
    "rdf.fit(X_train,y_train)"
   ]
  },
  {
   "cell_type": "code",
   "execution_count": 23,
   "metadata": {},
   "outputs": [
    {
     "data": {
      "text/plain": [
       "0.9774226531862746"
      ]
     },
     "execution_count": 23,
     "metadata": {},
     "output_type": "execute_result"
    }
   ],
   "source": [
    "rdf.score(X_train,y_train)"
   ]
  },
  {
   "cell_type": "code",
   "execution_count": 24,
   "metadata": {},
   "outputs": [
    {
     "data": {
      "text/plain": [
       "0.8079206381810303"
      ]
     },
     "execution_count": 24,
     "metadata": {},
     "output_type": "execute_result"
    }
   ],
   "source": [
    "rdf.score(X_test,y_test)"
   ]
  },
  {
   "cell_type": "markdown",
   "metadata": {},
   "source": [
    "发现随机森林回归模型效果要远远高于线性回归"
   ]
  },
  {
   "cell_type": "code",
   "execution_count": null,
   "metadata": {},
   "outputs": [],
   "source": []
  },
  {
   "cell_type": "markdown",
   "metadata": {},
   "source": [
    "# 数据清洗"
   ]
  },
  {
   "cell_type": "markdown",
   "metadata": {},
   "source": [
    "## 删除无关变量"
   ]
  },
  {
   "cell_type": "code",
   "execution_count": 25,
   "metadata": {},
   "outputs": [],
   "source": [
    "#删除’建筑面积'等变量\n",
    "X2 = data.drop(columns = ['销售价格','建筑面积'])"
   ]
  },
  {
   "cell_type": "code",
   "execution_count": 26,
   "metadata": {},
   "outputs": [
    {
     "data": {
      "text/html": [
       "<div>\n",
       "<style scoped>\n",
       "    .dataframe tbody tr th:only-of-type {\n",
       "        vertical-align: middle;\n",
       "    }\n",
       "\n",
       "    .dataframe tbody tr th {\n",
       "        vertical-align: top;\n",
       "    }\n",
       "\n",
       "    .dataframe thead th {\n",
       "        text-align: right;\n",
       "    }\n",
       "</style>\n",
       "<table border=\"1\" class=\"dataframe\">\n",
       "  <thead>\n",
       "    <tr style=\"text-align: right;\">\n",
       "      <th></th>\n",
       "      <th>销售日期</th>\n",
       "      <th>卧室数</th>\n",
       "      <th>浴室数</th>\n",
       "      <th>房屋面积</th>\n",
       "      <th>停车面积</th>\n",
       "      <th>楼层数</th>\n",
       "      <th>房屋评分</th>\n",
       "      <th>地下室面积</th>\n",
       "      <th>建筑年份</th>\n",
       "      <th>修复年份</th>\n",
       "      <th>纬度</th>\n",
       "      <th>经度</th>\n",
       "    </tr>\n",
       "  </thead>\n",
       "  <tbody>\n",
       "    <tr>\n",
       "      <th>0</th>\n",
       "      <td>20150302</td>\n",
       "      <td>3</td>\n",
       "      <td>2.25</td>\n",
       "      <td>1670</td>\n",
       "      <td>6240</td>\n",
       "      <td>1.0</td>\n",
       "      <td>8</td>\n",
       "      <td>430</td>\n",
       "      <td>1974</td>\n",
       "      <td>0</td>\n",
       "      <td>47.6413</td>\n",
       "      <td>-122.113</td>\n",
       "    </tr>\n",
       "    <tr>\n",
       "      <th>1</th>\n",
       "      <td>20150211</td>\n",
       "      <td>4</td>\n",
       "      <td>2.50</td>\n",
       "      <td>3300</td>\n",
       "      <td>10514</td>\n",
       "      <td>2.0</td>\n",
       "      <td>10</td>\n",
       "      <td>0</td>\n",
       "      <td>1984</td>\n",
       "      <td>0</td>\n",
       "      <td>47.6323</td>\n",
       "      <td>-122.036</td>\n",
       "    </tr>\n",
       "    <tr>\n",
       "      <th>2</th>\n",
       "      <td>20150107</td>\n",
       "      <td>3</td>\n",
       "      <td>3.25</td>\n",
       "      <td>3190</td>\n",
       "      <td>5283</td>\n",
       "      <td>2.0</td>\n",
       "      <td>9</td>\n",
       "      <td>0</td>\n",
       "      <td>2007</td>\n",
       "      <td>0</td>\n",
       "      <td>47.5534</td>\n",
       "      <td>-122.002</td>\n",
       "    </tr>\n",
       "    <tr>\n",
       "      <th>3</th>\n",
       "      <td>20141103</td>\n",
       "      <td>5</td>\n",
       "      <td>2.50</td>\n",
       "      <td>2900</td>\n",
       "      <td>9525</td>\n",
       "      <td>2.0</td>\n",
       "      <td>9</td>\n",
       "      <td>0</td>\n",
       "      <td>1989</td>\n",
       "      <td>0</td>\n",
       "      <td>47.5442</td>\n",
       "      <td>-122.138</td>\n",
       "    </tr>\n",
       "    <tr>\n",
       "      <th>4</th>\n",
       "      <td>20140603</td>\n",
       "      <td>5</td>\n",
       "      <td>2.75</td>\n",
       "      <td>2040</td>\n",
       "      <td>7488</td>\n",
       "      <td>1.0</td>\n",
       "      <td>7</td>\n",
       "      <td>840</td>\n",
       "      <td>1969</td>\n",
       "      <td>0</td>\n",
       "      <td>47.7289</td>\n",
       "      <td>-122.172</td>\n",
       "    </tr>\n",
       "  </tbody>\n",
       "</table>\n",
       "</div>"
      ],
      "text/plain": [
       "       销售日期  卧室数   浴室数  房屋面积   停车面积  楼层数  房屋评分  地下室面积  建筑年份  修复年份       纬度  \\\n",
       "0  20150302    3  2.25  1670   6240  1.0     8    430  1974     0  47.6413   \n",
       "1  20150211    4  2.50  3300  10514  2.0    10      0  1984     0  47.6323   \n",
       "2  20150107    3  3.25  3190   5283  2.0     9      0  2007     0  47.5534   \n",
       "3  20141103    5  2.50  2900   9525  2.0     9      0  1989     0  47.5442   \n",
       "4  20140603    5  2.75  2040   7488  1.0     7    840  1969     0  47.7289   \n",
       "\n",
       "        经度  \n",
       "0 -122.113  \n",
       "1 -122.036  \n",
       "2 -122.002  \n",
       "3 -122.138  \n",
       "4 -122.172  "
      ]
     },
     "execution_count": 26,
     "metadata": {},
     "output_type": "execute_result"
    }
   ],
   "source": [
    "X2.head()"
   ]
  },
  {
   "cell_type": "code",
   "execution_count": 27,
   "metadata": {},
   "outputs": [],
   "source": [
    "X2_train, X2_test, y2_train, y2_test = train_test_split(X2,y,\n",
    "                                test_size=0.3, random_state=666)"
   ]
  },
  {
   "cell_type": "markdown",
   "metadata": {},
   "source": [
    "## 数据标准化"
   ]
  },
  {
   "cell_type": "code",
   "execution_count": 28,
   "metadata": {},
   "outputs": [],
   "source": [
    "from sklearn.preprocessing import StandardScaler"
   ]
  },
  {
   "cell_type": "code",
   "execution_count": 29,
   "metadata": {},
   "outputs": [],
   "source": [
    "std = StandardScaler()"
   ]
  },
  {
   "cell_type": "code",
   "execution_count": 30,
   "metadata": {},
   "outputs": [
    {
     "name": "stderr",
     "output_type": "stream",
     "text": [
      "C:\\Users\\lenovo\\Anaconda3\\lib\\site-packages\\sklearn\\preprocessing\\data.py:645: DataConversionWarning: Data with input dtype int64, float64 were all converted to float64 by StandardScaler.\n",
      "  return self.partial_fit(X, y)\n",
      "C:\\Users\\lenovo\\Anaconda3\\lib\\site-packages\\sklearn\\base.py:464: DataConversionWarning: Data with input dtype int64, float64 were all converted to float64 by StandardScaler.\n",
      "  return self.fit(X, **fit_params).transform(X)\n"
     ]
    }
   ],
   "source": [
    "X2_train_std = std.fit_transform(X2_train)"
   ]
  },
  {
   "cell_type": "code",
   "execution_count": 31,
   "metadata": {},
   "outputs": [
    {
     "name": "stderr",
     "output_type": "stream",
     "text": [
      "C:\\Users\\lenovo\\Anaconda3\\lib\\site-packages\\ipykernel_launcher.py:1: DataConversionWarning: Data with input dtype int64, float64 were all converted to float64 by StandardScaler.\n",
      "  \"\"\"Entry point for launching an IPython kernel.\n"
     ]
    }
   ],
   "source": [
    "X2_test_std = std.transform(X2_test)"
   ]
  },
  {
   "cell_type": "markdown",
   "metadata": {},
   "source": [
    "# 再建模看看"
   ]
  },
  {
   "cell_type": "code",
   "execution_count": 32,
   "metadata": {},
   "outputs": [
    {
     "data": {
      "text/plain": [
       "LinearRegression(copy_X=True, fit_intercept=True, n_jobs=None,\n",
       "         normalize=False)"
      ]
     },
     "execution_count": 32,
     "metadata": {},
     "output_type": "execute_result"
    },
    {
     "data": {
      "text/plain": [
       "0.6540336329364264"
      ]
     },
     "execution_count": 32,
     "metadata": {},
     "output_type": "execute_result"
    },
    {
     "data": {
      "text/plain": [
       "0.6373075754096105"
      ]
     },
     "execution_count": 32,
     "metadata": {},
     "output_type": "execute_result"
    }
   ],
   "source": [
    "#实例化\n",
    "lr = LinearRegression()\n",
    "lr.fit(X2_train_std,y2_train)\n",
    "lr.score(X2_train_std,y2_train)\n",
    "lr.score(X2_test_std,y2_test)"
   ]
  },
  {
   "cell_type": "markdown",
   "metadata": {},
   "source": [
    "- 未删除变量前的模型评分\n",
    "- 0.6540336329364269\n",
    "- 0.6373075754096125\n",
    "- 删除建筑面积这个高度共线的变量后，有微乎其微的提高\n",
    "- 0.6540336329364264\n",
    "- 0.6373075754096105"
   ]
  },
  {
   "cell_type": "code",
   "execution_count": 33,
   "metadata": {},
   "outputs": [],
   "source": [
    "y2_train_pred = lr.predict(X2_train_std)"
   ]
  },
  {
   "cell_type": "code",
   "execution_count": 34,
   "metadata": {},
   "outputs": [],
   "source": [
    "y2_test_pred = lr.predict(X2_test_std)"
   ]
  },
  {
   "cell_type": "markdown",
   "metadata": {},
   "source": [
    "# 模型评估"
   ]
  },
  {
   "cell_type": "markdown",
   "metadata": {},
   "source": [
    "## MSE"
   ]
  },
  {
   "cell_type": "code",
   "execution_count": 35,
   "metadata": {},
   "outputs": [],
   "source": [
    "from sklearn.metrics import mean_squared_error"
   ]
  },
  {
   "cell_type": "code",
   "execution_count": 36,
   "metadata": {},
   "outputs": [
    {
     "data": {
      "text/plain": [
       "49288756086.05018"
      ]
     },
     "execution_count": 36,
     "metadata": {},
     "output_type": "execute_result"
    }
   ],
   "source": [
    "mean_squared_error(y2_train,y2_train_pred)"
   ]
  },
  {
   "cell_type": "code",
   "execution_count": 37,
   "metadata": {},
   "outputs": [
    {
     "data": {
      "text/plain": [
       "47552125669.909355"
      ]
     },
     "execution_count": 37,
     "metadata": {},
     "output_type": "execute_result"
    }
   ],
   "source": [
    "mean_squared_error(y2_test,y2_test_pred)"
   ]
  },
  {
   "cell_type": "markdown",
   "metadata": {},
   "source": [
    "## R方"
   ]
  },
  {
   "cell_type": "code",
   "execution_count": 38,
   "metadata": {},
   "outputs": [
    {
     "data": {
      "text/plain": [
       "0.6540336329364264"
      ]
     },
     "execution_count": 38,
     "metadata": {},
     "output_type": "execute_result"
    },
    {
     "data": {
      "text/plain": [
       "0.6373075754096105"
      ]
     },
     "execution_count": 38,
     "metadata": {},
     "output_type": "execute_result"
    }
   ],
   "source": [
    "lr.score(X2_train_std,y2_train)\n",
    "lr.score(X2_test_std,y2_test)"
   ]
  },
  {
   "cell_type": "code",
   "execution_count": 39,
   "metadata": {},
   "outputs": [
    {
     "data": {
      "text/plain": [
       "0.6373075754096105"
      ]
     },
     "execution_count": 39,
     "metadata": {},
     "output_type": "execute_result"
    }
   ],
   "source": [
    "# 用评估指标中的这个r2_score，即调整后R方\n",
    "from sklearn.metrics import r2_score\n",
    "r2_score(y2_test, y2_test_pred)"
   ]
  },
  {
   "cell_type": "code",
   "execution_count": 40,
   "metadata": {},
   "outputs": [
    {
     "data": {
      "text/plain": [
       "array([615000, 550000, 340000, ..., 320000, 340000, 280000], dtype=int64)"
      ]
     },
     "execution_count": 40,
     "metadata": {},
     "output_type": "execute_result"
    }
   ],
   "source": [
    "np.array(y2_test)"
   ]
  },
  {
   "cell_type": "code",
   "execution_count": 41,
   "metadata": {},
   "outputs": [
    {
     "data": {
      "text/plain": [
       "array([698863.78730455, 328579.79576448, 450887.91989731, ...,\n",
       "       413982.91310897, 355433.78819008, 287001.45349708])"
      ]
     },
     "execution_count": 41,
     "metadata": {},
     "output_type": "execute_result"
    }
   ],
   "source": [
    "np.array(y2_test_pred)"
   ]
  },
  {
   "cell_type": "markdown",
   "metadata": {},
   "source": [
    "# 再用随机森林回归看看"
   ]
  },
  {
   "cell_type": "code",
   "execution_count": 42,
   "metadata": {},
   "outputs": [
    {
     "data": {
      "text/plain": [
       "RandomForestRegressor(bootstrap=True, criterion='mse', max_depth=None,\n",
       "           max_features='auto', max_leaf_nodes=None,\n",
       "           min_impurity_decrease=0.0, min_impurity_split=None,\n",
       "           min_samples_leaf=1, min_samples_split=2,\n",
       "           min_weight_fraction_leaf=0.0, n_estimators=100, n_jobs=None,\n",
       "           oob_score=False, random_state=None, verbose=0, warm_start=False)"
      ]
     },
     "execution_count": 42,
     "metadata": {},
     "output_type": "execute_result"
    },
    {
     "data": {
      "text/plain": [
       "0.9772428198656693"
      ]
     },
     "execution_count": 42,
     "metadata": {},
     "output_type": "execute_result"
    },
    {
     "data": {
      "text/plain": [
       "0.81007570348258"
      ]
     },
     "execution_count": 42,
     "metadata": {},
     "output_type": "execute_result"
    }
   ],
   "source": [
    "rdf = RandomForestRegressor(n_estimators= 100)\n",
    "rdf.fit(X2_train_std,y2_train)\n",
    "rdf.score(X2_train_std,y2_train)\n",
    "rdf.score(X2_test_std,y2_test)"
   ]
  },
  {
   "cell_type": "markdown",
   "metadata": {},
   "source": [
    "- 发现随机森林的评分也比之前有一点点提升\n",
    "- 0.9765216386764758\n",
    "- 0.8100045423632241"
   ]
  },
  {
   "cell_type": "markdown",
   "metadata": {},
   "source": [
    "# 构建多项式"
   ]
  },
  {
   "cell_type": "code",
   "execution_count": 43,
   "metadata": {},
   "outputs": [],
   "source": [
    "from sklearn.preprocessing import PolynomialFeatures"
   ]
  },
  {
   "cell_type": "code",
   "execution_count": 175,
   "metadata": {},
   "outputs": [
    {
     "data": {
      "text/plain": [
       "'参数:degree 多项式次数\\n    '"
      ]
     },
     "execution_count": 175,
     "metadata": {},
     "output_type": "execute_result"
    },
    {
     "data": {
      "text/plain": [
       "LinearRegression(copy_X=True, fit_intercept=True, n_jobs=None,\n",
       "         normalize=False)"
      ]
     },
     "execution_count": 175,
     "metadata": {},
     "output_type": "execute_result"
    },
    {
     "name": "stdout",
     "output_type": "stream",
     "text": [
      "2\n"
     ]
    },
    {
     "data": {
      "text/plain": [
       "'参数:degree 多项式次数\\n    '"
      ]
     },
     "execution_count": 175,
     "metadata": {},
     "output_type": "execute_result"
    },
    {
     "data": {
      "text/plain": [
       "LinearRegression(copy_X=True, fit_intercept=True, n_jobs=None,\n",
       "         normalize=False)"
      ]
     },
     "execution_count": 175,
     "metadata": {},
     "output_type": "execute_result"
    },
    {
     "name": "stdout",
     "output_type": "stream",
     "text": [
      "3\n"
     ]
    },
    {
     "data": {
      "text/plain": [
       "'参数:degree 多项式次数\\n    '"
      ]
     },
     "execution_count": 175,
     "metadata": {},
     "output_type": "execute_result"
    },
    {
     "data": {
      "text/plain": [
       "LinearRegression(copy_X=True, fit_intercept=True, n_jobs=None,\n",
       "         normalize=False)"
      ]
     },
     "execution_count": 175,
     "metadata": {},
     "output_type": "execute_result"
    },
    {
     "name": "stdout",
     "output_type": "stream",
     "text": [
      "4\n"
     ]
    },
    {
     "data": {
      "text/plain": [
       "'参数:degree 多项式次数\\n    '"
      ]
     },
     "execution_count": 175,
     "metadata": {},
     "output_type": "execute_result"
    },
    {
     "data": {
      "text/plain": [
       "LinearRegression(copy_X=True, fit_intercept=True, n_jobs=None,\n",
       "         normalize=False)"
      ]
     },
     "execution_count": 175,
     "metadata": {},
     "output_type": "execute_result"
    },
    {
     "name": "stdout",
     "output_type": "stream",
     "text": [
      "5\n"
     ]
    },
    {
     "data": {
      "text/plain": [
       "'参数:degree 多项式次数\\n    '"
      ]
     },
     "execution_count": 175,
     "metadata": {},
     "output_type": "execute_result"
    },
    {
     "data": {
      "text/plain": [
       "LinearRegression(copy_X=True, fit_intercept=True, n_jobs=None,\n",
       "         normalize=False)"
      ]
     },
     "execution_count": 175,
     "metadata": {},
     "output_type": "execute_result"
    },
    {
     "name": "stdout",
     "output_type": "stream",
     "text": [
      "6\n"
     ]
    }
   ],
   "source": [
    "train_scores = []\n",
    "test_scores = []\n",
    "# 定义成函数\n",
    "for degree in range(2,7):\n",
    "    \"\"\"参数:degree 多项式次数\n",
    "    \"\"\"\n",
    "    # 2次项\n",
    "    # 构建多项式\n",
    "    poly = PolynomialFeatures(degree=degree)\n",
    "    # 转换数据\n",
    "    X_train_poly = poly.fit_transform(X2_train_std)\n",
    "    X_test_poly = poly.transform(X2_test_std)\n",
    "    # 生成模型\n",
    "    lr = LinearRegression()\n",
    "    # 训练模型\n",
    "    lr.fit(X_train_poly, y2_train)\n",
    "\n",
    "    train_scores.append(lr.score(X_train_poly, y2_train))\n",
    "    test_scores.append(lr.score(X_test_poly, y2_test))\n",
    "    print(degree)\n"
   ]
  },
  {
   "cell_type": "code",
   "execution_count": 177,
   "metadata": {},
   "outputs": [
    {
     "data": {
      "text/plain": [
       "[<matplotlib.lines.Line2D at 0x1654f71d3c8>]"
      ]
     },
     "execution_count": 177,
     "metadata": {},
     "output_type": "execute_result"
    },
    {
     "data": {
      "text/plain": [
       "[<matplotlib.lines.Line2D at 0x1654f54ec18>]"
      ]
     },
     "execution_count": 177,
     "metadata": {},
     "output_type": "execute_result"
    },
    {
     "data": {
      "image/png": "[encoded data removed]",
      "text/plain": [
       "<Figure size 432x288 with 1 Axes>"
      ]
     },
     "metadata": {
      "needs_background": "light"
     },
     "output_type": "display_data"
    }
   ],
   "source": [
    "plt.plot(range(2,7),train_scores)\n",
    "plt.plot(range(2,7),test_scores)"
   ]
  },
  {
   "cell_type": "code",
   "execution_count": 179,
   "metadata": {},
   "outputs": [
    {
     "data": {
      "text/plain": [
       "[0.7677283490136775,\n",
       " 0.8450354928696362,\n",
       " 0.9272630146054909,\n",
       " 0.9857926020899731,\n",
       " 0.9999999978931774]"
      ]
     },
     "execution_count": 179,
     "metadata": {},
     "output_type": "execute_result"
    }
   ],
   "source": [
    "train_scores"
   ]
  },
  {
   "cell_type": "code",
   "execution_count": 178,
   "metadata": {},
   "outputs": [
    {
     "data": {
      "text/plain": [
       "[0.718762364825295,\n",
       " 0.1668597630535913,\n",
       " -263.5075851022847,\n",
       " -4598488.924970205,\n",
       " -6945674256.563989]"
      ]
     },
     "execution_count": 178,
     "metadata": {},
     "output_type": "execute_result"
    }
   ],
   "source": [
    "test_scores"
   ]
  },
  {
   "cell_type": "markdown",
   "metadata": {},
   "source": [
    "# 构建二项式重新建模"
   ]
  },
  {
   "cell_type": "markdown",
   "metadata": {},
   "source": [
    "根据上面信息，我们发现二项式最好，3项式及以上都过拟合"
   ]
  },
  {
   "cell_type": "code",
   "execution_count": 44,
   "metadata": {},
   "outputs": [
    {
     "data": {
      "text/plain": [
       "LinearRegression(copy_X=True, fit_intercept=True, n_jobs=None,\n",
       "         normalize=False)"
      ]
     },
     "execution_count": 44,
     "metadata": {},
     "output_type": "execute_result"
    }
   ],
   "source": [
    "poly = PolynomialFeatures(degree=2)\n",
    "# 转换数据\n",
    "X_train_poly = poly.fit_transform(X2_train_std)\n",
    "X_test_poly = poly.transform(X2_test_std)\n",
    "# 生成模型\n",
    "lr = LinearRegression()\n",
    "# 训练模型\n",
    "lr.fit(X_train_poly, y2_train)"
   ]
  },
  {
   "cell_type": "code",
   "execution_count": 46,
   "metadata": {},
   "outputs": [
    {
     "data": {
      "text/plain": [
       "0.7677283490136775"
      ]
     },
     "execution_count": 46,
     "metadata": {},
     "output_type": "execute_result"
    }
   ],
   "source": [
    "lr.score(X_train_poly,y2_train)"
   ]
  },
  {
   "cell_type": "code",
   "execution_count": 45,
   "metadata": {},
   "outputs": [
    {
     "data": {
      "text/plain": [
       "0.718762364825295"
      ]
     },
     "execution_count": 45,
     "metadata": {},
     "output_type": "execute_result"
    }
   ],
   "source": [
    "lr.score(X_test_poly, y2_test)"
   ]
  },
  {
   "cell_type": "code",
   "execution_count": 48,
   "metadata": {},
   "outputs": [],
   "source": [
    "#训练集预测值\n",
    "train_y_pred = lr.predict(X_train_poly) "
   ]
  },
  {
   "cell_type": "code",
   "execution_count": 49,
   "metadata": {},
   "outputs": [],
   "source": [
    "#测试集预测值\n",
    "test_y_pred = lr.predict(X_test_poly)"
   ]
  },
  {
   "cell_type": "markdown",
   "metadata": {},
   "source": [
    "# 再用随机森林回归看看"
   ]
  },
  {
   "cell_type": "code",
   "execution_count": 47,
   "metadata": {},
   "outputs": [
    {
     "data": {
      "text/plain": [
       "RandomForestRegressor(bootstrap=True, criterion='mse', max_depth=None,\n",
       "           max_features='auto', max_leaf_nodes=None,\n",
       "           min_impurity_decrease=0.0, min_impurity_split=None,\n",
       "           min_samples_leaf=1, min_samples_split=2,\n",
       "           min_weight_fraction_leaf=0.0, n_estimators=100, n_jobs=None,\n",
       "           oob_score=False, random_state=None, verbose=0, warm_start=False)"
      ]
     },
     "execution_count": 47,
     "metadata": {},
     "output_type": "execute_result"
    },
    {
     "data": {
      "text/plain": [
       "0.9759200272016014"
      ]
     },
     "execution_count": 47,
     "metadata": {},
     "output_type": "execute_result"
    },
    {
     "data": {
      "text/plain": [
       "0.811367077909004"
      ]
     },
     "execution_count": 47,
     "metadata": {},
     "output_type": "execute_result"
    }
   ],
   "source": [
    "rdf = RandomForestRegressor(n_estimators= 100)\n",
    "rdf.fit(X_train_poly,y2_train)\n",
    "rdf.score(X_train_poly,y2_train)\n",
    "rdf.score(X_test_poly,y2_test)"
   ]
  },
  {
   "cell_type": "code",
   "execution_count": 64,
   "metadata": {},
   "outputs": [],
   "source": [
    "#训练集预测值\n",
    "trainR_y_pred = rdf.predict(X_train_poly) "
   ]
  },
  {
   "cell_type": "code",
   "execution_count": 65,
   "metadata": {},
   "outputs": [],
   "source": [
    "#测试集预测值\n",
    "testR_y_pred = rdf.predict(X_test_poly)"
   ]
  },
  {
   "cell_type": "markdown",
   "metadata": {},
   "source": [
    "构建多项式后，随机森林效果有一点点上升，但效果都不算好"
   ]
  },
  {
   "cell_type": "markdown",
   "metadata": {},
   "source": [
    "# 残差检验"
   ]
  },
  {
   "cell_type": "markdown",
   "metadata": {},
   "source": [
    "## 线性回归残差"
   ]
  },
  {
   "cell_type": "code",
   "execution_count": 63,
   "metadata": {},
   "outputs": [
    {
     "data": {
      "text/plain": [
       "<matplotlib.collections.PathCollection at 0x284d8612d68>"
      ]
     },
     "execution_count": 63,
     "metadata": {},
     "output_type": "execute_result"
    },
    {
     "data": {
      "text/plain": [
       "<matplotlib.collections.PathCollection at 0x284d861a128>"
      ]
     },
     "execution_count": 63,
     "metadata": {},
     "output_type": "execute_result"
    },
    {
     "data": {
      "text/plain": [
       "<matplotlib.legend.Legend at 0x284d861a1d0>"
      ]
     },
     "execution_count": 63,
     "metadata": {},
     "output_type": "execute_result"
    },
    {
     "data": {
      "text/plain": [
       "<matplotlib.collections.LineCollection at 0x284d861a320>"
      ]
     },
     "execution_count": 63,
     "metadata": {},
     "output_type": "execute_result"
    },
    {
     "data": {
      "text/plain": [
       "Text(0.5, 0, '预测值')"
      ]
     },
     "execution_count": 63,
     "metadata": {},
     "output_type": "execute_result"
    },
    {
     "data": {
      "text/plain": [
       "Text(0, 0.5, '残差')"
      ]
     },
     "execution_count": 63,
     "metadata": {},
     "output_type": "execute_result"
    },
    {
     "data": {
      "image/png": "[encoded data removed]",
      "text/plain": [
       "<Figure size 1080x720 with 1 Axes>"
      ]
     },
     "metadata": {
      "needs_background": "light"
     },
     "output_type": "display_data"
    }
   ],
   "source": [
    "#通过绘制残差图，观察异常值\n",
    "# 横坐标为预测值，纵坐标为预测值-真实值，差值越接近0越好\n",
    "plt.scatter(train_y_pred,train_y_pred-y2_train,c=\"blue\",marker=\"o\",label=\"训练数据\")\n",
    "plt.scatter(test_y_pred,test_y_pred-y2_test,c=\"lightgreen\",marker=\"s\",label=\"测试数据\")\n",
    "plt.legend(loc=\"upper left\")\n",
    "# 绘制水平线y = 0\n",
    "plt.hlines(y=0,xmin = -200000,xmax = 6000000,lw=2,color=\"red\")\n",
    "plt.xlabel(\"预测值\")\n",
    "plt.ylabel(\"残差\")\n",
    "plt.show()"
   ]
  },
  {
   "cell_type": "code",
   "execution_count": 72,
   "metadata": {},
   "outputs": [],
   "source": [
    "#标准化残差：残差除以其标准差后得到的数值\n",
    "#训练集残差标准化\n",
    "Sy_pred_train = (train_y_pred-y2_train)/train_y_pred.std()\n",
    "#测试集残差标准化\n",
    "Sy_pred_test = (test_y_pred-y2_test)/test_y_pred.std()"
   ]
  },
  {
   "cell_type": "code",
   "execution_count": 86,
   "metadata": {},
   "outputs": [
    {
     "data": {
      "text/plain": [
       "<Figure size 720x504 with 0 Axes>"
      ]
     },
     "execution_count": 86,
     "metadata": {},
     "output_type": "execute_result"
    },
    {
     "data": {
      "text/plain": [
       "<matplotlib.collections.PathCollection at 0x284e6e35be0>"
      ]
     },
     "execution_count": 86,
     "metadata": {},
     "output_type": "execute_result"
    },
    {
     "data": {
      "text/plain": [
       "<matplotlib.collections.PathCollection at 0x284e6e356d8>"
      ]
     },
     "execution_count": 86,
     "metadata": {},
     "output_type": "execute_result"
    },
    {
     "data": {
      "text/plain": [
       "<matplotlib.legend.Legend at 0x284e6f18b70>"
      ]
     },
     "execution_count": 86,
     "metadata": {},
     "output_type": "execute_result"
    },
    {
     "data": {
      "text/plain": [
       "<matplotlib.collections.LineCollection at 0x284df8353c8>"
      ]
     },
     "execution_count": 86,
     "metadata": {},
     "output_type": "execute_result"
    },
    {
     "data": {
      "text/plain": [
       "<matplotlib.collections.LineCollection at 0x284e6e3db38>"
      ]
     },
     "execution_count": 86,
     "metadata": {},
     "output_type": "execute_result"
    },
    {
     "data": {
      "text/plain": [
       "<matplotlib.collections.LineCollection at 0x284e6e3d7b8>"
      ]
     },
     "execution_count": 86,
     "metadata": {},
     "output_type": "execute_result"
    },
    {
     "data": {
      "text/plain": [
       "Text(0.5, 0, '预测值')"
      ]
     },
     "execution_count": 86,
     "metadata": {},
     "output_type": "execute_result"
    },
    {
     "data": {
      "text/plain": [
       "Text(0, 0.5, '标准化残差')"
      ]
     },
     "execution_count": 86,
     "metadata": {},
     "output_type": "execute_result"
    },
    {
     "data": {
      "image/png": "[encoded data removed]",
      "text/plain": [
       "<Figure size 720x504 with 1 Axes>"
      ]
     },
     "metadata": {
      "needs_background": "light"
     },
     "output_type": "display_data"
    }
   ],
   "source": [
    "plt.figure(figsize=(10,7))\n",
    "#通过绘制残差图，观察异常值\n",
    "# 横坐标为预测值，纵坐标为预测值-真实值，差值越接近0越好\n",
    "plt.scatter(train_y_pred,Sy_pred_train,c=\"blue\",marker=\"o\",label=\"训练数据\")\n",
    "plt.scatter(test_y_pred,Sy_pred_test,c=\"lightgreen\",marker=\"s\",label=\"测试数据\")\n",
    "plt.legend(loc=\"upper left\")\n",
    "# 绘制水平线y = 0\n",
    "plt.hlines(y=0,xmin = -200000,xmax = 6000000,lw=2,color=\"red\")\n",
    "plt.hlines(y=3,xmin = -200000,xmax = 6000000,lw=2,color=\"green\",linestyles='dotted')\n",
    "plt.hlines(y=-3,xmin = -200000,xmax = 6000000,lw=2,color=\"green\",linestyles='dotted')\n",
    "plt.xlabel(\"预测值\")\n",
    "plt.ylabel(\"标准化残差\")\n",
    "plt.show()"
   ]
  },
  {
   "cell_type": "code",
   "execution_count": null,
   "metadata": {},
   "outputs": [],
   "source": []
  },
  {
   "cell_type": "markdown",
   "metadata": {},
   "source": [
    "## 随机森林残差"
   ]
  },
  {
   "cell_type": "code",
   "execution_count": 66,
   "metadata": {},
   "outputs": [
    {
     "data": {
      "text/plain": [
       "<matplotlib.collections.PathCollection at 0x284d865b860>"
      ]
     },
     "execution_count": 66,
     "metadata": {},
     "output_type": "execute_result"
    },
    {
     "data": {
      "text/plain": [
       "<matplotlib.collections.PathCollection at 0x284d865bcf8>"
      ]
     },
     "execution_count": 66,
     "metadata": {},
     "output_type": "execute_result"
    },
    {
     "data": {
      "text/plain": [
       "<matplotlib.legend.Legend at 0x284d865bbe0>"
      ]
     },
     "execution_count": 66,
     "metadata": {},
     "output_type": "execute_result"
    },
    {
     "data": {
      "text/plain": [
       "<matplotlib.collections.LineCollection at 0x284d865bf98>"
      ]
     },
     "execution_count": 66,
     "metadata": {},
     "output_type": "execute_result"
    },
    {
     "data": {
      "text/plain": [
       "Text(0.5, 0, '预测值')"
      ]
     },
     "execution_count": 66,
     "metadata": {},
     "output_type": "execute_result"
    },
    {
     "data": {
      "text/plain": [
       "Text(0, 0.5, '残差')"
      ]
     },
     "execution_count": 66,
     "metadata": {},
     "output_type": "execute_result"
    },
    {
     "data": {
      "image/png": "[encoded data removed]",
      "text/plain": [
       "<Figure size 1080x720 with 1 Axes>"
      ]
     },
     "metadata": {
      "needs_background": "light"
     },
     "output_type": "display_data"
    }
   ],
   "source": [
    "#通过绘制残差图，观察异常值\n",
    "# 横坐标为预测值，纵坐标为预测值-真实值，差值越接近0越好\n",
    "plt.scatter(trainR_y_pred,trainR_y_pred-y2_train,c=\"blue\",marker=\"o\",label=\"训练数据\")\n",
    "plt.scatter(testR_y_pred,testR_y_pred-y2_test,c=\"lightgreen\",marker=\"s\",label=\"测试数据\")\n",
    "plt.legend(loc=\"upper left\")\n",
    "# 绘制水平线y = 0\n",
    "plt.hlines(y=0,xmin = -200000,xmax = 6000000,lw=2,color=\"red\")\n",
    "plt.xlabel(\"预测值\")\n",
    "plt.ylabel(\"残差\")\n",
    "plt.show()"
   ]
  },
  {
   "cell_type": "code",
   "execution_count": null,
   "metadata": {},
   "outputs": [],
   "source": []
  }
 ],
 "metadata": {
  "kernelspec": {
   "display_name": "Python 3",
   "language": "python",
   "name": "python3"
  },
  "language_info": {
   "codemirror_mode": {
    "name": "ipython",
    "version": 3
   },
   "file_extension": ".py",
   "mimetype": "text/x-python",
   "name": "python",
   "nbconvert_exporter": "python",
   "pygments_lexer": "ipython3",
   "version": "3.7.3"
  },
  "toc": {
   "base_numbering": 1,
   "nav_menu": {},
   "number_sections": true,
   "sideBar": true,
   "skip_h1_title": false,
   "title_cell": "Table of Contents",
   "title_sidebar": "Contents",
   "toc_cell": false,
   "toc_position": {},
   "toc_section_display": true,
   "toc_window_display": true
  }
 },
 "nbformat": 4,
 "nbformat_minor": 2
}
